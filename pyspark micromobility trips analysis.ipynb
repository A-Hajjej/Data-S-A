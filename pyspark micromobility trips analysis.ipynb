{
 "cells": [
  {
   "cell_type": "code",
   "execution_count": null,
   "metadata": {},
   "outputs": [],
   "source": [
    "pip install findspark"
   ]
  },
  {
   "cell_type": "code",
   "execution_count": null,
   "metadata": {},
   "outputs": [],
   "source": [
    "pip install pyspark"
   ]
  },
  {
   "cell_type": "code",
   "execution_count": 1,
   "metadata": {},
   "outputs": [
    {
     "name": "stdout",
     "output_type": "stream",
     "text": [
      "+-----+\n",
      "|hello|\n",
      "+-----+\n",
      "|spark|\n",
      "+-----+\n",
      "\n"
     ]
    }
   ],
   "source": [
    "import pyspark\n",
    "from pyspark.sql import SparkSession\n",
    "#SparkSession.builder\n",
    " #    .master(\"local\")\n",
    "  #   .appName(\"Word Count\")\n",
    "   #  .config(\"spark.some.config.option\", \"some-value\")\n",
    "   #  .getOrCreate()\n",
    "\n",
    "spark = SparkSession.builder.getOrCreate()\n",
    "df = spark.sql(\"select 'spark' as hello \")\n",
    "df.show()"
   ]
  },
  {
   "cell_type": "code",
   "execution_count": 2,
   "metadata": {},
   "outputs": [
    {
     "data": {
      "text/html": [
       "\n",
       "            <div>\n",
       "                <p><b>SparkSession - in-memory</b></p>\n",
       "                \n",
       "        <div>\n",
       "            <p><b>SparkContext</b></p>\n",
       "\n",
       "            <p><a href=\"http://LAPTOP-HQI88729:4040\">Spark UI</a></p>\n",
       "\n",
       "            <dl>\n",
       "              <dt>Version</dt>\n",
       "                <dd><code>v2.4.4</code></dd>\n",
       "              <dt>Master</dt>\n",
       "                <dd><code>local[*]</code></dd>\n",
       "              <dt>AppName</dt>\n",
       "                <dd><code>pyspark-shell</code></dd>\n",
       "            </dl>\n",
       "        </div>\n",
       "        \n",
       "            </div>\n",
       "        "
      ],
      "text/plain": [
       "<pyspark.sql.session.SparkSession at 0x1c8892e3e80>"
      ]
     },
     "execution_count": 2,
     "metadata": {},
     "output_type": "execute_result"
    }
   ],
   "source": [
    "spark"
   ]
  },
  {
   "cell_type": "code",
   "execution_count": 84,
   "metadata": {},
   "outputs": [],
   "source": [
    "from pyspark import SparkContext\n",
    "from pyspark.sql import SQLContext\n",
    "import pandas as pd\n",
    "\n",
    "sql_sc = SQLContext(spark)\n",
    "repository='C:/Users/adam_/Desktop/Adam_Work_Spark/trips_spark/Shared_Micromobility_Vehicle_Trips.csv'\n",
    "Austin_Trips_Df = spark.read.csv(repository,header='True',inferSchema='true') \n"
   ]
  },
  {
   "cell_type": "code",
   "execution_count": 86,
   "metadata": {
    "scrolled": true
   },
   "outputs": [
    {
     "name": "stdout",
     "output_type": "stream",
     "text": [
      "root\n",
      " |-- ID: string (nullable = true)\n",
      " |-- Device ID: string (nullable = true)\n",
      " |-- Vehicle Type: string (nullable = true)\n",
      " |-- Trip Duration: integer (nullable = true)\n",
      " |-- Trip Distance: integer (nullable = true)\n",
      " |-- Start Time: string (nullable = true)\n",
      " |-- End Time: string (nullable = true)\n",
      " |-- Modified Date: string (nullable = true)\n",
      " |-- Month: integer (nullable = true)\n",
      " |-- Hour: integer (nullable = true)\n",
      " |-- Day of Week: integer (nullable = true)\n",
      " |-- Council District (Start): integer (nullable = true)\n",
      " |-- Council District (End): integer (nullable = true)\n",
      " |-- Year: integer (nullable = true)\n",
      " |-- Census Tract Start: string (nullable = true)\n",
      " |-- Census Tract End: string (nullable = true)\n",
      "\n"
     ]
    }
   ],
   "source": [
    "Austin_Trips_Df.printSchema()"
   ]
  },
  {
   "cell_type": "code",
   "execution_count": 30,
   "metadata": {},
   "outputs": [],
   "source": [
    "#from pyspark.sql.functions import to_timestamp\n",
    "#Austin_Trips_Df = Austin_Trips_Df.withColumn('Start_Time',to_timestamp(Austin_Trips_Df['Start Time'], \"yyyy_MM_dd HH_mm_ss\"))"
   ]
  },
  {
   "cell_type": "code",
   "execution_count": 87,
   "metadata": {},
   "outputs": [
    {
     "data": {
      "text/plain": [
       "[Row(ID='900f1254-8a1e-495e-a55f-1153ebdb3e0e', Device ID='4f7f79d1-88d8-4829-95be-5a548134425b', Vehicle Type='bicycle', Trip Duration=188, Trip Distance=836, Start Time='07/01/2019 12:00:00 AM', End Time='07/01/2019 12:00:00 AM', Modified Date='07/03/2019 05:02:16 AM', Month=7, Hour=0, Day of Week=1, Council District (Start)=3, Council District (End)=3, Year=2019, Census Tract Start='48453002111', Census Tract End='48453002111')]"
      ]
     },
     "execution_count": 87,
     "metadata": {},
     "output_type": "execute_result"
    }
   ],
   "source": [
    "Austin_Trips_Df.head(1)"
   ]
  },
  {
   "cell_type": "code",
   "execution_count": 88,
   "metadata": {},
   "outputs": [],
   "source": [
    "Austin_Trips_Df=Austin_Trips_Df.withColumn('Trip Distance',(Austin_Trips_Df['Trip Distance'])/1000).withColumn('Trip Duration',(Austin_Trips_Df['Trip Duration'])/3600)"
   ]
  },
  {
   "cell_type": "code",
   "execution_count": 89,
   "metadata": {},
   "outputs": [],
   "source": [
    "Austin_Trips_Df=Austin_Trips_Df.withColumnRenamed('Trip Distance', 'Trip_Distance(km)').withColumnRenamed('Trip Duration', 'Trip_Duration(H)')"
   ]
  },
  {
   "cell_type": "code",
   "execution_count": 90,
   "metadata": {},
   "outputs": [],
   "source": [
    "Austin_Trips_Df=Austin_Trips_Df.drop(Austin_Trips_Df['Modified Date'])"
   ]
  },
  {
   "cell_type": "code",
   "execution_count": 91,
   "metadata": {},
   "outputs": [
    {
     "name": "stdout",
     "output_type": "stream",
     "text": [
      "root\n",
      " |-- ID: string (nullable = true)\n",
      " |-- Device ID: string (nullable = true)\n",
      " |-- Vehicle Type: string (nullable = true)\n",
      " |-- Trip_Duration(H): double (nullable = true)\n",
      " |-- Trip_Distance(km): double (nullable = true)\n",
      " |-- Start Time: string (nullable = true)\n",
      " |-- End Time: string (nullable = true)\n",
      " |-- Month: integer (nullable = true)\n",
      " |-- Hour: integer (nullable = true)\n",
      " |-- Day of Week: integer (nullable = true)\n",
      " |-- Council District (Start): integer (nullable = true)\n",
      " |-- Council District (End): integer (nullable = true)\n",
      " |-- Year: integer (nullable = true)\n",
      " |-- Census Tract Start: string (nullable = true)\n",
      " |-- Census Tract End: string (nullable = true)\n",
      "\n"
     ]
    }
   ],
   "source": [
    "Austin_Trips_Df.printSchema()"
   ]
  },
  {
   "cell_type": "code",
   "execution_count": 92,
   "metadata": {},
   "outputs": [
    {
     "data": {
      "text/plain": [
       "2115445"
      ]
     },
     "execution_count": 92,
     "metadata": {},
     "output_type": "execute_result"
    }
   ],
   "source": [
    "Austin_Trips_Df.count()"
   ]
  },
  {
   "cell_type": "code",
   "execution_count": 93,
   "metadata": {
    "scrolled": false
   },
   "outputs": [
    {
     "name": "stdout",
     "output_type": "stream",
     "text": [
      "+-------+--------------------+--------------------+------------+-------------------+-----------------+--------------------+--------------------+------------------+------------------+------------------+------------------------+----------------------+-------+--------------------+--------------------+\n",
      "|summary|                  ID|           Device ID|Vehicle Type|   Trip_Duration(H)|Trip_Distance(km)|          Start Time|            End Time|             Month|              Hour|       Day of Week|Council District (Start)|Council District (End)|   Year|  Census Tract Start|    Census Tract End|\n",
      "+-------+--------------------+--------------------+------------+-------------------+-----------------+--------------------+--------------------+------------------+------------------+------------------+------------------------+----------------------+-------+--------------------+--------------------+\n",
      "|  count|             2115445|             2115445|     2115445|            2115445|          2115445|             2115445|             2115445|           2115445|           2115445|           2115445|                 2115437|               2115437|2115445|             2115437|             2115437|\n",
      "|   mean|                null|                null|        null|0.16955681625694452|45.60924962360113|                null|                null| 8.540141199605756|14.652916998551133|3.3354301340852635|        7.78554171076709|     7.673175802446492| 2019.0|4.845299754516846E10|4.845299652724827...|\n",
      "| stddev|                null|                null|        null| 0.2429257070840986|1936.536590271756|                null|                null|1.1072800626651682| 5.678400620255555|2.0995612422256045|      2.5230084180840886|    2.6046733439498833|    0.0|  1382594.0165556476|   1448973.131705505|\n",
      "|    min|0000058c-6376-482...|0001b2e9-a307-4cc...|     bicycle|             -0.315|              0.0|07/01/2019 01:00:...|07/01/2019 01:00:...|                 7|                 0|                 0|                       0|                     0|   2019|         48021950300|         48021950300|\n",
      "|    max|ffffff66-43ae-430...|fffd525f-0099-404...|     scooter|            23.5475|      1113117.831|11/01/2019 12:00:...|11/01/2019 12:45:...|                11|                23|                 6|                      10|                    10|   2019|       OUT_OF_BOUNDS|       OUT_OF_BOUNDS|\n",
      "+-------+--------------------+--------------------+------------+-------------------+-----------------+--------------------+--------------------+------------------+------------------+------------------+------------------------+----------------------+-------+--------------------+--------------------+\n",
      "\n"
     ]
    }
   ],
   "source": [
    "Austin_Trips_Df.describe().show(truncate= True)"
   ]
  },
  {
   "cell_type": "code",
   "execution_count": 81,
   "metadata": {},
   "outputs": [
    {
     "name": "stdout",
     "output_type": "stream",
     "text": [
      "+-------+-----------------+\n",
      "|summary|Trip_Distance(km)|\n",
      "+-------+-----------------+\n",
      "|  count|          2115445|\n",
      "|   mean|45.60924962360113|\n",
      "| stddev|1936.536590271756|\n",
      "|    min|              0.0|\n",
      "|    max|      1113117.831|\n",
      "+-------+-----------------+\n",
      "\n",
      "+-------+-------------------+\n",
      "|summary|   Trip_Duration(H)|\n",
      "+-------+-------------------+\n",
      "|  count|            2115445|\n",
      "|   mean|0.16955681625694452|\n",
      "| stddev| 0.2429257070840986|\n",
      "|    min|             -0.315|\n",
      "|    max|            23.5475|\n",
      "+-------+-------------------+\n",
      "\n"
     ]
    },
    {
     "data": {
      "text/plain": [
       "(None, None)"
      ]
     },
     "execution_count": 81,
     "metadata": {},
     "output_type": "execute_result"
    }
   ],
   "source": [
    "Austin_Trips_Df.describe(['Trip_Distance(km)']).show(),Austin_Trips_Df.describe(['Trip_Duration(H)']).show()"
   ]
  },
  {
   "cell_type": "code",
   "execution_count": 85,
   "metadata": {},
   "outputs": [
    {
     "name": "stdout",
     "output_type": "stream",
     "text": [
      "+--------------------+--------------------+------------+-------------+-------------+--------------------+--------------------+--------------------+-----+----+-----------+------------------------+----------------------+----+------------------+----------------+\n",
      "|                  ID|           Device ID|Vehicle Type|Trip Duration|Trip Distance|          Start Time|            End Time|       Modified Date|Month|Hour|Day of Week|Council District (Start)|Council District (End)|Year|Census Tract Start|Census Tract End|\n",
      "+--------------------+--------------------+------------+-------------+-------------+--------------------+--------------------+--------------------+-----+----+-----------+------------------------+----------------------+----+------------------+----------------+\n",
      "|cf754985-0a8c-4e6...|bd9f190d-2509-433...|     scooter|           -9|          643|07/18/2019 06:45:...|07/18/2019 06:45:...|07/19/2019 08:28:...|    7|  18|          4|                       3|                     3|2019|       48453000902|     48453001000|\n",
      "|f1e426af-a53c-46e...|0979fcc2-e8e0-412...|     scooter|          -16|          772|07/18/2019 06:45:...|07/18/2019 06:45:...|07/19/2019 08:28:...|    7|  18|          4|                       9|                     9|2019|       48453001200|     48453001100|\n",
      "|e802dbdc-4bd7-4fd...|6d72681b-2c5d-4b6...|     scooter|         -828|         2349|07/18/2019 06:45:...|07/18/2019 06:30:...|07/19/2019 08:28:...|    7|  18|          4|                       9|                     9|2019|       48453001100|     48453001305|\n",
      "|24ef5c4d-223e-475...|77a958fc-2482-4e0...|     scooter|          -33|         1271|07/18/2019 06:45:...|07/18/2019 06:45:...|07/19/2019 08:28:...|    7|  18|          4|                       9|                     9|2019|       48453001100|     48453001305|\n",
      "|51198dde-ef77-490...|659a9267-c0e4-4fe...|     scooter|         -698|         4924|07/18/2019 07:00:...|07/18/2019 06:45:...|07/19/2019 08:28:...|    7|  19|          4|                       3|                     3|2019|       48453000902|     48453002318|\n",
      "|41bf2626-61a7-4b1...|b0323ddc-e157-48c...|     scooter|         -680|           16|07/18/2019 07:00:...|07/18/2019 06:45:...|07/19/2019 08:28:...|    7|  19|          4|                       9|                     9|2019|       48453001100|     48453001100|\n",
      "|d402f72d-2050-4fe...|a8734ab8-80cc-40c...|     scooter|        -1134|         1448|07/18/2019 07:00:...|07/18/2019 06:30:...|07/19/2019 08:28:...|    7|  19|          4|                       9|                     3|2019|       48453001100|     48453000902|\n",
      "|cf76ee43-6c44-4f3...|1dd00146-4f1f-47e...|     scooter|         -484|          466|07/18/2019 07:00:...|07/18/2019 06:45:...|07/19/2019 08:28:...|    7|  19|          4|                       9|                     9|2019|       48453001100|     48453001100|\n",
      "|f4151bd3-a4c3-448...|af385c83-6c2d-4dd...|     scooter|         -889|         1544|07/18/2019 07:00:...|07/18/2019 06:45:...|07/19/2019 08:28:...|    7|  19|          4|                       9|                     9|2019|       48453001100|     48453001200|\n",
      "|cac555fc-15e7-43e...|49de2830-488a-4f8...|     scooter|         -783|         1899|07/18/2019 07:00:...|07/18/2019 06:45:...|07/19/2019 08:28:...|    7|  19|          4|                       5|                     9|2019|       48453001303|     48453001200|\n",
      "|66e9348f-bede-460...|822396f5-8e3b-48e...|     scooter|          -35|          627|07/18/2019 07:15:...|07/18/2019 07:15:...|07/19/2019 08:28:...|    7|  19|          4|                       9|                     9|2019|       48453001100|     48453001100|\n",
      "|ef49684d-3515-4f6...|7e46b00e-cb92-427...|     scooter|           -7|         1802|07/18/2019 07:15:...|07/18/2019 07:15:...|07/19/2019 08:28:...|    7|  19|          4|                       9|                     9|2019|       48453001200|     48453001100|\n",
      "|32914a3a-811d-43f...|4d025995-462c-42d...|     scooter|         -144|         2961|07/18/2019 08:30:...|07/18/2019 08:30:...|07/19/2019 09:28:...|    7|  20|          4|                       3|                     3|2019|       48453000902|     48453000902|\n",
      "|cc725fa2-55e2-4c7...|8ffb4a2b-1a7b-43c...|     scooter|          -16|          933|07/18/2019 08:30:...|07/18/2019 08:30:...|07/19/2019 09:28:...|    7|  20|          4|                       9|                     9|2019|       48453001100|     48453001100|\n",
      "|c636e4b1-d106-456...|10b20e02-fdf0-4a6...|     scooter|          -35|          869|07/18/2019 08:45:...|07/18/2019 08:45:...|07/19/2019 09:28:...|    7|  20|          4|                       9|                     1|2019|       48453001100|     48453001100|\n",
      "+--------------------+--------------------+------------+-------------+-------------+--------------------+--------------------+--------------------+-----+----+-----------+------------------------+----------------------+----+------------------+----------------+\n",
      "\n"
     ]
    }
   ],
   "source": [
    "Austin_Trips_Df.filter(Austin_Trips_Df['Trip Duration']<0).show()"
   ]
  },
  {
   "cell_type": "code",
   "execution_count": null,
   "metadata": {},
   "outputs": [],
   "source": [
    "Austin_Trips_Df.select('Vehicle Type').distinct().show()"
   ]
  },
  {
   "cell_type": "code",
   "execution_count": null,
   "metadata": {},
   "outputs": [],
   "source": [
    "Austin_Trips_Df.crosstab('Vehicle Type', 'Month').show()"
   ]
  },
  {
   "cell_type": "code",
   "execution_count": null,
   "metadata": {},
   "outputs": [],
   "source": [
    "Austin_Trips_Df.crosstab('Day of Week', 'Month').show()"
   ]
  },
  {
   "cell_type": "code",
   "execution_count": null,
   "metadata": {},
   "outputs": [],
   "source": [
    "Austin_Trips_Df.crosstab('Hour','Day of Week').show()"
   ]
  },
  {
   "cell_type": "code",
   "execution_count": null,
   "metadata": {},
   "outputs": [],
   "source": [
    "Austin_Trips_Df.crosstab('Device ID','Month').show()"
   ]
  },
  {
   "cell_type": "code",
   "execution_count": null,
   "metadata": {},
   "outputs": [],
   "source": [
    "Austin_Trips_Df.dropna().count()"
   ]
  },
  {
   "cell_type": "code",
   "execution_count": null,
   "metadata": {},
   "outputs": [],
   "source": [
    "Austin_Trips_Df.withColumn('Speed',(Austin_Trips_Df['Trip Distance']/Austin_Trips_Df['Trip Duration'])*3.6).select('Trip Duration','Trip Distance','Speed').show(5)"
   ]
  },
  {
   "cell_type": "code",
   "execution_count": null,
   "metadata": {},
   "outputs": [],
   "source": [
    "Austin_Trips_Df=Austin_Trips_Df.withColumn('Speed',(Austin_Trips_Df['Trip Distance']/Austin_Trips_Df['Trip Duration'])*3.6)"
   ]
  },
  {
   "cell_type": "code",
   "execution_count": null,
   "metadata": {},
   "outputs": [],
   "source": [
    "Austin_Trips_Df.describe(['Speed']).show()"
   ]
  }
 ],
 "metadata": {
  "kernelspec": {
   "display_name": "Python 3",
   "language": "python",
   "name": "python3"
  },
  "language_info": {
   "codemirror_mode": {
    "name": "ipython",
    "version": 3
   },
   "file_extension": ".py",
   "mimetype": "text/x-python",
   "name": "python",
   "nbconvert_exporter": "python",
   "pygments_lexer": "ipython3",
   "version": "3.7.3"
  }
 },
 "nbformat": 4,
 "nbformat_minor": 2
}
