{
 "cells": [
  {
   "cell_type": "code",
   "execution_count": 3,
   "metadata": {},
   "outputs": [
    {
     "name": "stdout",
     "output_type": "stream",
     "text": [
      "Requirement already satisfied: pyspark in c:\\users\\adam_\\anaconda3\\lib\\site-packages (2.4.4)\n",
      "Requirement already satisfied: py4j==0.10.7 in c:\\users\\adam_\\anaconda3\\lib\\site-packages (from pyspark) (0.10.7)\n",
      "Note: you may need to restart the kernel to use updated packages.\n"
     ]
    }
   ],
   "source": [
    "pip install pyspark\n",
    "sc = spark.sparkContext"
   ]
  },
  {
   "cell_type": "code",
   "execution_count": 29,
   "metadata": {},
   "outputs": [
    {
     "name": "stdout",
     "output_type": "stream",
     "text": [
      "+-----------+\n",
      "|hello_spark|\n",
      "+-----------+\n",
      "|      spark|\n",
      "+-----------+\n",
      "\n"
     ]
    }
   ],
   "source": [
    "import pyspark\n",
    "from pyspark.sql import SparkSession\n",
    "from pyspark.sql.types import StructType, StructField, StringType, FloatType,ArrayType\n",
    "from pyspark.sql import SQLContext\n",
    "spark = SparkSession.builder.getOrCreate()\n",
    "df = spark.sql(\"select 'spark' as hello_spark \")\n",
    "df.show()\n",
    "sc = SQLContext(spark)"
   ]
  },
  {
   "cell_type": "code",
   "execution_count": null,
   "metadata": {},
   "outputs": [],
   "source": [
    "root\n",
    "  |-- attr_1: long (nullable = true)\n",
    "  |-- attr_2: array (nullable = true)\n",
    "  |    |-- element: struct (containsNull = true)\n",
    "  |    |    |-- a: integer (nullable = false)\n",
    "  |    |    |-- b: integer (nullable = false)\n",
    "    \n",
    "from pyspark.sql.types import ArrayType, IntegerType, StructType, StructField\n",
    "\n",
    "json_schema = ArrayType(StructType(\n",
    "    [StructField(\"orderId\", StringType(),False),\n",
    "     StructField('b', IntegerType(), False)]\n",
    "))\n",
    "\n",
    "root\n",
    " |-- customerId: string (nullable = true)\n",
    " |-- orders: array (nullable = true)\n",
    " |    |-- element: struct (containsNull = true)\n",
    " |    |    |-- basket: array (nullable = true)\n",
    " |    |    |    |-- element: struct (containsNull = true)\n",
    " |    |    |    |    |-- grossMerchandiseValueEur: double (nullable = true)\n",
    " |    |    |    |    |-- productId: string (nullable = true)\n",
    " |    |    |    |    |-- productType: string (nullable = true)\n",
    " |    |    |-- orderId: string (nullable = true)"
   ]
  },
  {
   "cell_type": "code",
   "execution_count": 48,
   "metadata": {},
   "outputs": [],
   "source": [
    "schema=StructType([\n",
    "StructField(\"customerId\", StringType(), True),\n",
    " StructField(\"orders\", ArrayType(\n",
    "      StructType([\n",
    "        StructField(\"url\", StringType(), True),\n",
    "        StructField(\"expanded_url\", StringType(), True),\n",
    "        StructField(\"display_url\", StringType(), True)\n",
    "      ]),\n",
    "    ), True)\n",
    "])\n",
    "repository='data-engineer-challenge-python/etl/resources/data.json'\n",
    "data = spark.read.schema(schema).json(repository)"
   ]
  },
  {
   "cell_type": "code",
   "execution_count": 52,
   "metadata": {},
   "outputs": [],
   "source": [
    "repository='data-engineer-challenge-python/etl/resources/data.json'\n",
    "data = spark.read.json(repository)"
   ]
  },
  {
   "cell_type": "code",
   "execution_count": 60,
   "metadata": {},
   "outputs": [
    {
     "ename": "TypeError",
     "evalue": "__init__() takes from 2 to 3 positional arguments but 4 were given",
     "output_type": "error",
     "traceback": [
      "\u001b[1;31m---------------------------------------------------------------------------\u001b[0m",
      "\u001b[1;31mTypeError\u001b[0m                                 Traceback (most recent call last)",
      "\u001b[1;32m<ipython-input-60-0d0e5eee06f6>\u001b[0m in \u001b[0;36m<module>\u001b[1;34m\u001b[0m\n\u001b[0;32m      6\u001b[0m                     \u001b[0mStructField\u001b[0m\u001b[1;33m(\u001b[0m\u001b[1;34m\"productId\"\u001b[0m\u001b[1;33m,\u001b[0m\u001b[0mStringType\u001b[0m\u001b[1;33m(\u001b[0m\u001b[1;33m)\u001b[0m\u001b[1;33m,\u001b[0m\u001b[1;32mTrue\u001b[0m\u001b[1;33m)\u001b[0m\u001b[1;33m,\u001b[0m\u001b[1;33m\u001b[0m\u001b[1;33m\u001b[0m\u001b[0m\n\u001b[0;32m      7\u001b[0m                     \u001b[0mStructField\u001b[0m\u001b[1;33m(\u001b[0m\u001b[1;34m\"grossMerchandiseValueEur\"\u001b[0m\u001b[1;33m,\u001b[0m \u001b[0mFloatType\u001b[0m\u001b[1;33m(\u001b[0m\u001b[1;33m)\u001b[0m\u001b[1;33m,\u001b[0m\u001b[1;32mTrue\u001b[0m\u001b[1;33m)\u001b[0m\u001b[1;33m,\u001b[0m\u001b[1;33m\u001b[0m\u001b[1;33m\u001b[0m\u001b[0m\n\u001b[1;32m----> 8\u001b[1;33m                     \u001b[0mStructField\u001b[0m\u001b[1;33m(\u001b[0m\u001b[1;34m\"productType\"\u001b[0m\u001b[1;33m,\u001b[0m \u001b[0mStringType\u001b[0m\u001b[1;33m(\u001b[0m\u001b[1;33m)\u001b[0m \u001b[1;33m,\u001b[0m \u001b[1;32mTrue\u001b[0m\u001b[1;33m)\u001b[0m\u001b[1;33m\u001b[0m\u001b[1;33m\u001b[0m\u001b[0m\n\u001b[0m\u001b[0;32m      9\u001b[0m     ), True),\n\u001b[0;32m     10\u001b[0m   ), True)\n",
      "\u001b[1;31mTypeError\u001b[0m: __init__() takes from 2 to 3 positional arguments but 4 were given"
     ]
    }
   ],
   "source": [
    "schema_2=StructType([\n",
    "StructField(\"customerId\", StringType(), True), \n",
    "StructField(\"orders\", ArrayType(\n",
    "StructField(\"orderId\",StringType(),True),\n",
    "StructField(\"basket\", ArrayType (\n",
    "                    StructField(\"productId\",StringType(),True),\n",
    "                    StructField(\"grossMerchandiseValueEur\", FloatType(),True),\n",
    "                    StructField(\"productType\", StringType() , True)\n",
    "    ), True),\n",
    "  ), True)\n",
    "])\n",
    "repository='data-engineer-challenge-python/etl/resources/data.json'\n",
    "data = spark.read.schema(schema_2).json(repository)"
   ]
  },
  {
   "cell_type": "code",
   "execution_count": 53,
   "metadata": {},
   "outputs": [
    {
     "name": "stdout",
     "output_type": "stream",
     "text": [
      "root\n",
      " |-- customerId: string (nullable = true)\n",
      " |-- orders: array (nullable = true)\n",
      " |    |-- element: struct (containsNull = true)\n",
      " |    |    |-- basket: array (nullable = true)\n",
      " |    |    |    |-- element: struct (containsNull = true)\n",
      " |    |    |    |    |-- grossMerchandiseValueEur: double (nullable = true)\n",
      " |    |    |    |    |-- productId: string (nullable = true)\n",
      " |    |    |    |    |-- productType: string (nullable = true)\n",
      " |    |    |-- orderId: string (nullable = true)\n",
      "\n"
     ]
    }
   ],
   "source": [
    "data.printSchema()"
   ]
  },
  {
   "cell_type": "code",
   "execution_count": 50,
   "metadata": {},
   "outputs": [
    {
     "name": "stdout",
     "output_type": "stream",
     "text": [
      "+--------------------+--------------------+\n",
      "|          customerId|              orders|\n",
      "+--------------------+--------------------+\n",
      "|5b6950c008c899c1a...|[{\"orderId\":\"5b69...|\n",
      "|5b6950c0624a4baa1...|                  []|\n",
      "+--------------------+--------------------+\n",
      "only showing top 2 rows\n",
      "\n"
     ]
    }
   ],
   "source": [
    "data.show(2)"
   ]
  },
  {
   "cell_type": "code",
   "execution_count": null,
   "metadata": {},
   "outputs": [],
   "source": [
    " StructType([\n",
    "  StructField(\"customerId\", StringType(), True), \n",
    "     \n",
    "  StructField(\"loc\", \n",
    "    ArrayType(FloatType(), True), True),\n",
    "  StructField(\"pop\", IntegerType(), True)\n",
    "])\n",
    "    \n",
    "    \n",
    "schema=StructType([\n",
    "StructField(\"orders\", StructType([\n",
    "StructField(\"orderId\",StringType(),True),\n",
    "StructField(\"basket\", StructType([\n",
    "StructField(\"productId\",StringType(),True),\n",
    "StructField(\"grossMerchandiseValueEur\", FloatType(),True),\n",
    "StructField(\"productType\",StringType(), True)\n",
    "    ]), True),\n",
    "  ]), True)\n",
    "])"
   ]
  },
  {
   "cell_type": "code",
   "execution_count": 8,
   "metadata": {},
   "outputs": [],
   "source": [
    "schema=StructType([\n",
    "StructField(\"orders\", StructType([\n",
    "StructField(\"orderId\",StringType(),True),\n",
    "StructField(\"basket\", StructType([\n",
    "StructField(\"productId\",StringType(),True),\n",
    "StructField(\"grossMerchandiseValueEur\", FloatType(),True),\n",
    "StructField(\"productType\",StringType(), True)\n",
    "    ]), True),\n",
    "  ]), True)\n",
    "])\n",
    "def jsonToDataFrame(json, schema=None):\n",
    "  # SparkSessions are available with Spark 2.0+\n",
    "  reader = spark.read\n",
    "  if schema:\n",
    "    reader.schema(schema)\n",
    "  return reader.json(sc.parallelize([json]))\n",
    "\n",
    "events = jsonToDataFrame('data-engineer-challenge-python/etl/resources/data.json', schema)"
   ]
  },
  {
   "cell_type": "code",
   "execution_count": 11,
   "metadata": {},
   "outputs": [
    {
     "data": {
      "text/plain": [
       "[Row(orders=None), Row(orders=None)]"
      ]
     },
     "execution_count": 11,
     "metadata": {},
     "output_type": "execute_result"
    }
   ],
   "source": [
    "events.head(2)"
   ]
  },
  {
   "cell_type": "code",
   "execution_count": null,
   "metadata": {},
   "outputs": [],
   "source": []
  },
  {
   "cell_type": "code",
   "execution_count": null,
   "metadata": {},
   "outputs": [],
   "source": [
    " \"customerId\": \"5b6950c008c899c1a4caf2a1\",\n",
    "  \"orders\": [\n",
    "    {\n",
    "      \"orderId\": \"5b6950c0fda5be24b51cfe47\",\n",
    "      \"basket\": [\n",
    "        {\n",
    "          \"productId\": \"5b6950c02b3b80a9472b36ea\",\n",
    "          \"grossMerchandiseValueEur\": 10.24,\n",
    "          \"productType\": \"hot food\"\n",
    "        },\n",
    "        {\n",
    "          \"productId\": \"5b6950c0116450974d3ea65d\",\n",
    "          \"grossMerchandiseValueEur\": 5.41,\n",
    "          \"productType\": \"hot food\"\n",
    "        },\n",
    "        {\n",
    "          \"productId\": \"5b6950c03d34d984f478c88f\",\n",
    "          \"grossMerchandiseValueEur\": 10.21,\n",
    "          \"productType\": \"cold food\"\n",
    "        }\n",
    "      ]\n",
    "    }\n",
    "      \n",
    "       StructField(\"orders\", ArrayType(\n",
    "         StructField(\"orderId\",StringType(),True),\n",
    "          StructType([\n",
    "        StructField(\"url\", StringType(), True),\n",
    "        StructField(\"expanded_url\", StringType(), True),\n",
    "        StructField(\"display_url\", StringType(), True)\n",
    "      ]),\n",
    "    ), True)"
   ]
  },
  {
   "cell_type": "code",
   "execution_count": null,
   "metadata": {},
   "outputs": [],
   "source": []
  },
  {
   "cell_type": "code",
   "execution_count": null,
   "metadata": {},
   "outputs": [],
   "source": []
  }
 ],
 "metadata": {
  "kernelspec": {
   "display_name": "Python 3",
   "language": "python",
   "name": "python3"
  },
  "language_info": {
   "codemirror_mode": {
    "name": "ipython",
    "version": 3
   },
   "file_extension": ".py",
   "mimetype": "text/x-python",
   "name": "python",
   "nbconvert_exporter": "python",
   "pygments_lexer": "ipython3",
   "version": "3.7.3"
  }
 },
 "nbformat": 4,
 "nbformat_minor": 2
}
